{
 "cells": [
  {
   "cell_type": "markdown",
   "id": "6f726ba2",
   "metadata": {},
   "source": [
    "## Introduction"
   ]
  },
  {
   "cell_type": "markdown",
   "id": "d4ac20b5",
   "metadata": {},
   "source": [
    "#### Overview\n",
    "\n",
    "Please understand the below mentioned real-life scenario and try to solve the assignment.\n",
    "The sample data is attached in the link provided below for your reference."
   ]
  },
  {
   "cell_type": "markdown",
   "id": "c0a1afcb",
   "metadata": {},
   "source": [
    "#### Business Scenario\n",
    "\n",
    "You are a data analyst and your client has a large ecommerce company in India (let’s call it X).\n",
    "X gets a thousand orders via their website on a daily basis and they have to deliver them as fast\n",
    "as they can. For delivering the goods ordered by the customers, X has tied up with multiple\n",
    "courier companies in India as delivery partners who charge them some amount per delivery.\n",
    "The charges are dependent upon two factors:\n",
    "    \n",
    "* Weight of the product\n",
    "* Distance between the warehouse (pickup location) and customer’s delivery address\n",
    "(destination location)\n",
    "\n",
    "\n",
    "On an average, the delivery charges are Rs. 100 per shipment. So if X ships 1,00,000 orders\n",
    "per month, they have to pay approximately Rs. 1 crore to the courier companies on a monthly\n",
    "basis as charges.\n",
    "As the amount that X has to pay to the courier companies is very high, they want to verify if the\n",
    "charges levied by their Delivery partners per Order are correct."
   ]
  },
  {
   "cell_type": "code",
   "execution_count": 1,
   "id": "584a193e",
   "metadata": {},
   "outputs": [],
   "source": [
    "import warnings\n",
    "warnings.filterwarnings('ignore')"
   ]
  },
  {
   "cell_type": "code",
   "execution_count": 2,
   "id": "983a1787",
   "metadata": {},
   "outputs": [],
   "source": [
    "import pandas as pd\n",
    "import numpy as np"
   ]
  },
  {
   "cell_type": "markdown",
   "id": "012761a7",
   "metadata": {},
   "source": [
    "### Inserting excel file"
   ]
  },
  {
   "cell_type": "code",
   "execution_count": 5,
   "id": "00c58e31",
   "metadata": {},
   "outputs": [],
   "source": [
    "Company_X_Order_Report = pd.read_excel(\"D:\\\\Interview Questions\\\\Final Assignment Data -\\\\New folder\\\\Company X - Order Report.xlsx\")\n",
    "Company_X_Pincode_Zones = pd.read_excel(\"D:\\\\Interview Questions\\\\Final Assignment Data -\\\\New folder\\\\Company X - Pincode Zones.xlsx\")\n",
    "Company_X_SKU_Master = pd.read_excel(\"D:\\\\Interview Questions\\\\Final Assignment Data -\\\\New folder\\Company X - SKU Master.xlsx\")\n",
    "Courier_Company_Invoice = pd.read_excel(\"D:\\\\Interview Questions\\\\Final Assignment Data -\\\\New folder\\\\Courier Company - Invoice.xlsx\")\n",
    "Courier_Company_Rates = pd.read_excel(\"D:\\\\Interview Questions\\\\Final Assignment Data -\\\\New folder\\\\Courier Company - Rates.xlsx\")"
   ]
  },
  {
   "cell_type": "markdown",
   "id": "ea699c52",
   "metadata": {},
   "source": [
    "### Delete Duplicates"
   ]
  },
  {
   "cell_type": "code",
   "execution_count": 20,
   "id": "8e41fa36",
   "metadata": {},
   "outputs": [],
   "source": [
    "Company_X_Order_Report = Company_X_Order_Report.drop_duplicates()"
   ]
  },
  {
   "cell_type": "code",
   "execution_count": 21,
   "id": "4ddeb6d6",
   "metadata": {},
   "outputs": [],
   "source": [
    "Company_X_Pincode_Zones = Company_X_Pincode_Zones.drop_duplicates()"
   ]
  },
  {
   "cell_type": "code",
   "execution_count": 22,
   "id": "12b3d92b",
   "metadata": {},
   "outputs": [],
   "source": [
    "Company_X_SKU_Master = Company_X_SKU_Master.drop_duplicates()"
   ]
  },
  {
   "cell_type": "code",
   "execution_count": 23,
   "id": "e17f8256",
   "metadata": {},
   "outputs": [],
   "source": [
    "Courier_Company_Invoice = Courier_Company_Invoice.drop_duplicates()"
   ]
  },
  {
   "cell_type": "code",
   "execution_count": 24,
   "id": "1de23d0a",
   "metadata": {},
   "outputs": [],
   "source": [
    "Courier_Company_Rates = Courier_Company_Rates.drop_duplicates()"
   ]
  },
  {
   "cell_type": "code",
   "execution_count": null,
   "id": "10b4ac7f",
   "metadata": {},
   "outputs": [],
   "source": []
  },
  {
   "cell_type": "markdown",
   "id": "6b1f5d98",
   "metadata": {},
   "source": [
    "### Checking the Information"
   ]
  },
  {
   "cell_type": "code",
   "execution_count": 30,
   "id": "3083494c",
   "metadata": {},
   "outputs": [
    {
     "name": "stdout",
     "output_type": "stream",
     "text": [
      "<class 'pandas.core.frame.DataFrame'>\n",
      "Index: 398 entries, 0 to 399\n",
      "Data columns (total 3 columns):\n",
      " #   Column         Non-Null Count  Dtype  \n",
      "---  ------         --------------  -----  \n",
      " 0   ExternOrderNo  398 non-null    int64  \n",
      " 1   SKU            398 non-null    object \n",
      " 2   Order Qty      398 non-null    float64\n",
      "dtypes: float64(1), int64(1), object(1)\n",
      "memory usage: 12.4+ KB\n"
     ]
    }
   ],
   "source": [
    "Company_X_Order_Report.info()"
   ]
  },
  {
   "cell_type": "code",
   "execution_count": 31,
   "id": "5a5c4992",
   "metadata": {},
   "outputs": [
    {
     "name": "stdout",
     "output_type": "stream",
     "text": [
      "<class 'pandas.core.frame.DataFrame'>\n",
      "Index: 65 entries, 0 to 65\n",
      "Data columns (total 2 columns):\n",
      " #   Column      Non-Null Count  Dtype \n",
      "---  ------      --------------  ----- \n",
      " 0   SKU         65 non-null     object\n",
      " 1   Weight (g)  65 non-null     int64 \n",
      "dtypes: int64(1), object(1)\n",
      "memory usage: 1.5+ KB\n"
     ]
    }
   ],
   "source": [
    "Company_X_SKU_Master.info()"
   ]
  },
  {
   "cell_type": "code",
   "execution_count": 32,
   "id": "77a0b06f",
   "metadata": {},
   "outputs": [
    {
     "name": "stdout",
     "output_type": "stream",
     "text": [
      "<class 'pandas.core.frame.DataFrame'>\n",
      "Index: 108 entries, 0 to 121\n",
      "Data columns (total 3 columns):\n",
      " #   Column             Non-Null Count  Dtype \n",
      "---  ------             --------------  ----- \n",
      " 0   Warehouse Pincode  108 non-null    int64 \n",
      " 1   Customer Pincode   108 non-null    int64 \n",
      " 2   Zone               108 non-null    object\n",
      "dtypes: int64(2), object(1)\n",
      "memory usage: 3.4+ KB\n"
     ]
    }
   ],
   "source": [
    "Company_X_Pincode_Zones.info()"
   ]
  },
  {
   "cell_type": "code",
   "execution_count": 33,
   "id": "933e0f29",
   "metadata": {},
   "outputs": [
    {
     "name": "stdout",
     "output_type": "stream",
     "text": [
      "<class 'pandas.core.frame.DataFrame'>\n",
      "RangeIndex: 124 entries, 0 to 123\n",
      "Data columns (total 8 columns):\n",
      " #   Column                Non-Null Count  Dtype  \n",
      "---  ------                --------------  -----  \n",
      " 0   AWB Code              124 non-null    int64  \n",
      " 1   Order ID              124 non-null    int64  \n",
      " 2   Charged Weight        124 non-null    float64\n",
      " 3   Warehouse Pincode     124 non-null    int64  \n",
      " 4   Customer Pincode      124 non-null    int64  \n",
      " 5   Zone                  124 non-null    object \n",
      " 6   Type of Shipment      124 non-null    object \n",
      " 7   Billing Amount (Rs.)  124 non-null    float64\n",
      "dtypes: float64(2), int64(4), object(2)\n",
      "memory usage: 7.9+ KB\n"
     ]
    }
   ],
   "source": [
    "Courier_Company_Invoice.info()"
   ]
  },
  {
   "cell_type": "code",
   "execution_count": 34,
   "id": "51dabe8e",
   "metadata": {},
   "outputs": [
    {
     "name": "stdout",
     "output_type": "stream",
     "text": [
      "<class 'pandas.core.frame.DataFrame'>\n",
      "RangeIndex: 5 entries, 0 to 4\n",
      "Data columns (total 6 columns):\n",
      " #   Column                                 Non-Null Count  Dtype  \n",
      "---  ------                                 --------------  -----  \n",
      " 0   Zone                                   5 non-null      object \n",
      " 1   Weight Slabs                           5 non-null      float64\n",
      " 2   Forward Fixed Charge                   5 non-null      float64\n",
      " 3   Forward Additional Weight Slab Charge  5 non-null      float64\n",
      " 4   RTO Fixed Charge                       5 non-null      float64\n",
      " 5   RTO Additional Weight Slab Charge      5 non-null      float64\n",
      "dtypes: float64(5), object(1)\n",
      "memory usage: 368.0+ bytes\n"
     ]
    }
   ],
   "source": [
    "Courier_Company_Rates.info()"
   ]
  },
  {
   "cell_type": "code",
   "execution_count": null,
   "id": "51a9ee4c",
   "metadata": {},
   "outputs": [],
   "source": []
  },
  {
   "cell_type": "markdown",
   "id": "d80df26f",
   "metadata": {},
   "source": [
    "### Checking the number of NULL value"
   ]
  },
  {
   "cell_type": "code",
   "execution_count": 35,
   "id": "b7d5c7bb",
   "metadata": {},
   "outputs": [
    {
     "data": {
      "text/plain": [
       "ExternOrderNo    0\n",
       "SKU              0\n",
       "Order Qty        0\n",
       "dtype: int64"
      ]
     },
     "execution_count": 35,
     "metadata": {},
     "output_type": "execute_result"
    }
   ],
   "source": [
    "Company_X_Order_Report.isnull().sum()"
   ]
  },
  {
   "cell_type": "code",
   "execution_count": 36,
   "id": "be14fdbe",
   "metadata": {},
   "outputs": [
    {
     "data": {
      "text/plain": [
       "Zone                                     0\n",
       "Weight Slabs                             0\n",
       "Forward Fixed Charge                     0\n",
       "Forward Additional Weight Slab Charge    0\n",
       "RTO Fixed Charge                         0\n",
       "RTO Additional Weight Slab Charge        0\n",
       "dtype: int64"
      ]
     },
     "execution_count": 36,
     "metadata": {},
     "output_type": "execute_result"
    }
   ],
   "source": [
    "Courier_Company_Rates.isnull().sum()"
   ]
  },
  {
   "cell_type": "code",
   "execution_count": 37,
   "id": "f86f6dfd",
   "metadata": {},
   "outputs": [
    {
     "data": {
      "text/plain": [
       "AWB Code                0\n",
       "Order ID                0\n",
       "Charged Weight          0\n",
       "Warehouse Pincode       0\n",
       "Customer Pincode        0\n",
       "Zone                    0\n",
       "Type of Shipment        0\n",
       "Billing Amount (Rs.)    0\n",
       "dtype: int64"
      ]
     },
     "execution_count": 37,
     "metadata": {},
     "output_type": "execute_result"
    }
   ],
   "source": [
    "Courier_Company_Invoice.isnull().sum()"
   ]
  },
  {
   "cell_type": "code",
   "execution_count": 38,
   "id": "d5c63219",
   "metadata": {},
   "outputs": [
    {
     "data": {
      "text/plain": [
       "Warehouse Pincode    0\n",
       "Customer Pincode     0\n",
       "Zone                 0\n",
       "dtype: int64"
      ]
     },
     "execution_count": 38,
     "metadata": {},
     "output_type": "execute_result"
    }
   ],
   "source": [
    "Company_X_Pincode_Zones.isnull().sum()"
   ]
  },
  {
   "cell_type": "code",
   "execution_count": 39,
   "id": "9e79769d",
   "metadata": {},
   "outputs": [
    {
     "data": {
      "text/plain": [
       "SKU           0\n",
       "Weight (g)    0\n",
       "dtype: int64"
      ]
     },
     "execution_count": 39,
     "metadata": {},
     "output_type": "execute_result"
    }
   ],
   "source": [
    "Company_X_SKU_Master.isnull().sum()"
   ]
  },
  {
   "cell_type": "code",
   "execution_count": 43,
   "id": "93fc15c6",
   "metadata": {},
   "outputs": [],
   "source": [
    "Company_X_Order_Report = Company_X_Order_Report.merge(Company_X_SKU_Master,on = 'SKU') ## merging two tables"
   ]
  },
  {
   "cell_type": "code",
   "execution_count": 45,
   "id": "f77f988a",
   "metadata": {},
   "outputs": [],
   "source": [
    "Company_X_Order_Report['Weight (KG)'] = Company_X_Order_Report['Weight (g)']/1000 ##convert gm to KG"
   ]
  },
  {
   "cell_type": "code",
   "execution_count": 55,
   "id": "0eb57884",
   "metadata": {},
   "outputs": [],
   "source": [
    "Company_X_Order_Report['Total Weight (KG)'] = Company_X_Order_Report['Weight (KG)']*Company_X_Order_Report['Order Qty'] ## Adding one columns with Total weight"
   ]
  },
  {
   "cell_type": "code",
   "execution_count": 49,
   "id": "b3eb6c69",
   "metadata": {},
   "outputs": [],
   "source": [
    "Company_X_Order_Report.rename(columns = {'ExternOrderNo':'Order ID'}, inplace = True) ## Change column name"
   ]
  },
  {
   "cell_type": "code",
   "execution_count": 58,
   "id": "399194f0",
   "metadata": {},
   "outputs": [],
   "source": [
    "Final_Company_X_Order_Report = Company_X_Order_Report.groupby('Order ID', as_index = False).agg({'Total Weight (KG)':'sum'}) ## Summerize using Group by to check the total weight per order"
   ]
  },
  {
   "cell_type": "code",
   "execution_count": 61,
   "id": "51310088",
   "metadata": {},
   "outputs": [
    {
     "data": {
      "text/html": [
       "<div>\n",
       "<style scoped>\n",
       "    .dataframe tbody tr th:only-of-type {\n",
       "        vertical-align: middle;\n",
       "    }\n",
       "\n",
       "    .dataframe tbody tr th {\n",
       "        vertical-align: top;\n",
       "    }\n",
       "\n",
       "    .dataframe thead th {\n",
       "        text-align: right;\n",
       "    }\n",
       "</style>\n",
       "<table border=\"1\" class=\"dataframe\">\n",
       "  <thead>\n",
       "    <tr style=\"text-align: right;\">\n",
       "      <th></th>\n",
       "      <th>Order ID</th>\n",
       "      <th>Total Weight (KG)</th>\n",
       "    </tr>\n",
       "  </thead>\n",
       "  <tbody>\n",
       "    <tr>\n",
       "      <th>0</th>\n",
       "      <td>2001806210</td>\n",
       "      <td>0.220</td>\n",
       "    </tr>\n",
       "    <tr>\n",
       "      <th>1</th>\n",
       "      <td>2001806226</td>\n",
       "      <td>0.480</td>\n",
       "    </tr>\n",
       "    <tr>\n",
       "      <th>2</th>\n",
       "      <td>2001806229</td>\n",
       "      <td>0.500</td>\n",
       "    </tr>\n",
       "    <tr>\n",
       "      <th>3</th>\n",
       "      <td>2001806232</td>\n",
       "      <td>1.302</td>\n",
       "    </tr>\n",
       "    <tr>\n",
       "      <th>4</th>\n",
       "      <td>2001806233</td>\n",
       "      <td>0.245</td>\n",
       "    </tr>\n",
       "  </tbody>\n",
       "</table>\n",
       "</div>"
      ],
      "text/plain": [
       "     Order ID  Total Weight (KG)\n",
       "0  2001806210              0.220\n",
       "1  2001806226              0.480\n",
       "2  2001806229              0.500\n",
       "3  2001806232              1.302\n",
       "4  2001806233              0.245"
      ]
     },
     "execution_count": 61,
     "metadata": {},
     "output_type": "execute_result"
    }
   ],
   "source": [
    "Final_Company_X_Order_Report.head() ## Checking the first 5 values for New created table"
   ]
  },
  {
   "cell_type": "code",
   "execution_count": 63,
   "id": "639974dc",
   "metadata": {},
   "outputs": [],
   "source": [
    "Courier_Company_Invoice = Courier_Company_Invoice.merge(Final_Company_X_Order_Report, on  = 'Order ID') ## Merging two table"
   ]
  },
  {
   "cell_type": "code",
   "execution_count": 64,
   "id": "3e557638",
   "metadata": {},
   "outputs": [
    {
     "data": {
      "text/html": [
       "<div>\n",
       "<style scoped>\n",
       "    .dataframe tbody tr th:only-of-type {\n",
       "        vertical-align: middle;\n",
       "    }\n",
       "\n",
       "    .dataframe tbody tr th {\n",
       "        vertical-align: top;\n",
       "    }\n",
       "\n",
       "    .dataframe thead th {\n",
       "        text-align: right;\n",
       "    }\n",
       "</style>\n",
       "<table border=\"1\" class=\"dataframe\">\n",
       "  <thead>\n",
       "    <tr style=\"text-align: right;\">\n",
       "      <th></th>\n",
       "      <th>AWB Code</th>\n",
       "      <th>Order ID</th>\n",
       "      <th>Charged Weight</th>\n",
       "      <th>Warehouse Pincode</th>\n",
       "      <th>Customer Pincode</th>\n",
       "      <th>Zone</th>\n",
       "      <th>Type of Shipment</th>\n",
       "      <th>Billing Amount (Rs.)</th>\n",
       "      <th>Total Weight (KG)</th>\n",
       "    </tr>\n",
       "  </thead>\n",
       "  <tbody>\n",
       "    <tr>\n",
       "      <th>0</th>\n",
       "      <td>1091117222124</td>\n",
       "      <td>2001806232</td>\n",
       "      <td>1.30</td>\n",
       "      <td>121003</td>\n",
       "      <td>507101</td>\n",
       "      <td>d</td>\n",
       "      <td>Forward charges</td>\n",
       "      <td>135.0</td>\n",
       "      <td>1.302</td>\n",
       "    </tr>\n",
       "    <tr>\n",
       "      <th>1</th>\n",
       "      <td>1091117222194</td>\n",
       "      <td>2001806273</td>\n",
       "      <td>1.00</td>\n",
       "      <td>121003</td>\n",
       "      <td>486886</td>\n",
       "      <td>d</td>\n",
       "      <td>Forward charges</td>\n",
       "      <td>90.2</td>\n",
       "      <td>0.615</td>\n",
       "    </tr>\n",
       "    <tr>\n",
       "      <th>2</th>\n",
       "      <td>1091117222931</td>\n",
       "      <td>2001806408</td>\n",
       "      <td>2.50</td>\n",
       "      <td>121003</td>\n",
       "      <td>532484</td>\n",
       "      <td>d</td>\n",
       "      <td>Forward charges</td>\n",
       "      <td>224.6</td>\n",
       "      <td>2.265</td>\n",
       "    </tr>\n",
       "    <tr>\n",
       "      <th>3</th>\n",
       "      <td>1091117223244</td>\n",
       "      <td>2001806458</td>\n",
       "      <td>1.00</td>\n",
       "      <td>121003</td>\n",
       "      <td>143001</td>\n",
       "      <td>b</td>\n",
       "      <td>Forward charges</td>\n",
       "      <td>61.3</td>\n",
       "      <td>0.700</td>\n",
       "    </tr>\n",
       "    <tr>\n",
       "      <th>4</th>\n",
       "      <td>1091117229345</td>\n",
       "      <td>2001807012</td>\n",
       "      <td>0.15</td>\n",
       "      <td>121003</td>\n",
       "      <td>515591</td>\n",
       "      <td>d</td>\n",
       "      <td>Forward charges</td>\n",
       "      <td>45.4</td>\n",
       "      <td>0.240</td>\n",
       "    </tr>\n",
       "  </tbody>\n",
       "</table>\n",
       "</div>"
      ],
      "text/plain": [
       "        AWB Code    Order ID  Charged Weight  Warehouse Pincode  \\\n",
       "0  1091117222124  2001806232            1.30             121003   \n",
       "1  1091117222194  2001806273            1.00             121003   \n",
       "2  1091117222931  2001806408            2.50             121003   \n",
       "3  1091117223244  2001806458            1.00             121003   \n",
       "4  1091117229345  2001807012            0.15             121003   \n",
       "\n",
       "   Customer Pincode Zone Type of Shipment  Billing Amount (Rs.)  \\\n",
       "0            507101    d  Forward charges                 135.0   \n",
       "1            486886    d  Forward charges                  90.2   \n",
       "2            532484    d  Forward charges                 224.6   \n",
       "3            143001    b  Forward charges                  61.3   \n",
       "4            515591    d  Forward charges                  45.4   \n",
       "\n",
       "   Total Weight (KG)  \n",
       "0              1.302  \n",
       "1              0.615  \n",
       "2              2.265  \n",
       "3              0.700  \n",
       "4              0.240  "
      ]
     },
     "execution_count": 64,
     "metadata": {},
     "output_type": "execute_result"
    }
   ],
   "source": [
    "Courier_Company_Invoice.head()"
   ]
  },
  {
   "cell_type": "code",
   "execution_count": 67,
   "id": "c7de7f1f",
   "metadata": {},
   "outputs": [],
   "source": [
    "Courier_Company_Invoice = Courier_Company_Invoice.merge(Company_X_Pincode_Zones,on = 'Customer Pincode') ## Merging the invoice table with pincode table"
   ]
  },
  {
   "cell_type": "code",
   "execution_count": null,
   "id": "e25c54e8",
   "metadata": {},
   "outputs": [],
   "source": []
  },
  {
   "cell_type": "markdown",
   "id": "b6ed881c",
   "metadata": {},
   "source": [
    "### Rename some of the columns"
   ]
  },
  {
   "cell_type": "code",
   "execution_count": 72,
   "id": "5a94c09b",
   "metadata": {},
   "outputs": [],
   "source": [
    "Courier_Company_Invoice.rename(columns = {'Warehouse Pincode_x':'Warehouse Pincode','Zone_x':'Delivery Zone charged by Courier Company','Zone_y':'Delivery Zone as per X'}, inplace = True)"
   ]
  },
  {
   "cell_type": "code",
   "execution_count": 74,
   "id": "4bed539e",
   "metadata": {},
   "outputs": [],
   "source": [
    "Courier_Company_Invoice.rename(columns = {'Total Weight (KG)':'Total weight as per X (KG)'},inplace = True)"
   ]
  },
  {
   "cell_type": "code",
   "execution_count": 82,
   "id": "6fd3ef65",
   "metadata": {},
   "outputs": [],
   "source": [
    "Courier_Company_Rates.rename(columns = {'Zone':'Delivery Zone charged by Courier Company'}, inplace = True)"
   ]
  },
  {
   "cell_type": "code",
   "execution_count": null,
   "id": "0b1afff1",
   "metadata": {},
   "outputs": [],
   "source": []
  },
  {
   "cell_type": "markdown",
   "id": "53ffcddc",
   "metadata": {},
   "source": [
    "### As Python is case sensitive thats why changing the value of Zone column from Rates Table to do the marge with invoice table"
   ]
  },
  {
   "cell_type": "code",
   "execution_count": 89,
   "id": "d1cf9a2c",
   "metadata": {},
   "outputs": [],
   "source": [
    "Courier_Company_Rates['Delivery Zone charged by Courier Company'] = Courier_Company_Rates['Delivery Zone charged by Courier Company'].replace('A','a')"
   ]
  },
  {
   "cell_type": "code",
   "execution_count": 91,
   "id": "739667ef",
   "metadata": {},
   "outputs": [],
   "source": [
    "Courier_Company_Rates['Delivery Zone charged by Courier Company'] = Courier_Company_Rates['Delivery Zone charged by Courier Company'].replace('B','b')"
   ]
  },
  {
   "cell_type": "code",
   "execution_count": 92,
   "id": "cb9289a1",
   "metadata": {},
   "outputs": [],
   "source": [
    "Courier_Company_Rates['Delivery Zone charged by Courier Company'] = Courier_Company_Rates['Delivery Zone charged by Courier Company'].replace('C','c')"
   ]
  },
  {
   "cell_type": "code",
   "execution_count": 93,
   "id": "834d81d3",
   "metadata": {},
   "outputs": [],
   "source": [
    "Courier_Company_Rates['Delivery Zone charged by Courier Company'] = Courier_Company_Rates['Delivery Zone charged by Courier Company'].replace('D','d')"
   ]
  },
  {
   "cell_type": "code",
   "execution_count": 94,
   "id": "29c7e090",
   "metadata": {},
   "outputs": [],
   "source": [
    "Courier_Company_Rates['Delivery Zone charged by Courier Company'] = Courier_Company_Rates['Delivery Zone charged by Courier Company'].replace('E','e')"
   ]
  },
  {
   "cell_type": "code",
   "execution_count": null,
   "id": "f9a1bced",
   "metadata": {},
   "outputs": [],
   "source": []
  },
  {
   "cell_type": "markdown",
   "id": "254e24c8",
   "metadata": {},
   "source": [
    "### Merge two tables"
   ]
  },
  {
   "cell_type": "code",
   "execution_count": 101,
   "id": "7a8fb642",
   "metadata": {},
   "outputs": [],
   "source": [
    "Courier_Company_Invoice = Courier_Company_Invoice.merge(Courier_Company_Rates, on  = 'Delivery Zone charged by Courier Company')"
   ]
  },
  {
   "cell_type": "code",
   "execution_count": 109,
   "id": "ce101af2",
   "metadata": {},
   "outputs": [],
   "source": [
    "Courier_Company_Invoice.rename(columns = {'Weight Slabs':'Weight slab charged by Courier Company (KG)'},inplace = True)"
   ]
  },
  {
   "cell_type": "code",
   "execution_count": 111,
   "id": "cef4a926",
   "metadata": {},
   "outputs": [],
   "source": [
    "Courier_Company_Rates.rename(columns = {'Delivery Zone charged by Courier Company':'Delivery Zone as per X'}, inplace = True)"
   ]
  },
  {
   "cell_type": "code",
   "execution_count": 114,
   "id": "79f349ce",
   "metadata": {},
   "outputs": [],
   "source": [
    "Courier_Company_Invoice = Courier_Company_Invoice.merge(Courier_Company_Rates,on  = 'Delivery Zone as per X')"
   ]
  },
  {
   "cell_type": "code",
   "execution_count": 119,
   "id": "787fdc82",
   "metadata": {},
   "outputs": [],
   "source": [
    "Courier_Company_Invoice['Total Amount (Rs.)'] = np.nan ## Create one null column"
   ]
  },
  {
   "cell_type": "code",
   "execution_count": null,
   "id": "791ce225",
   "metadata": {},
   "outputs": [],
   "source": []
  },
  {
   "cell_type": "markdown",
   "id": "39992921",
   "metadata": {},
   "source": [
    "### Creating column **Expected Charge as per X (Rs.)** below"
   ]
  },
  {
   "cell_type": "code",
   "execution_count": 205,
   "id": "68545a03",
   "metadata": {},
   "outputs": [],
   "source": [
    "Courier_Company_Invoice['Total Amount (Rs.)'] =np.where(((Courier_Company_Invoice['Delivery Zone as per X']=='d') & (Courier_Company_Invoice['Type of Shipment']=='Forward charges') & (Courier_Company_Invoice['Total weight as per X (KG)']<=Courier_Company_Invoice['Weight Slabs'])),Courier_Company_Invoice['Forward Fixed Charge'],\n",
    "np.where(((Courier_Company_Invoice['Delivery Zone as per X']=='e') & (Courier_Company_Invoice['Type of Shipment']=='Forward charges') & (Courier_Company_Invoice['Total weight as per X (KG)']<=Courier_Company_Invoice['Weight Slabs'])), Courier_Company_Invoice['Forward Fixed Charge'], \n",
    "np.where(((Courier_Company_Invoice['Delivery Zone as per X']=='c') & (Courier_Company_Invoice['Type of Shipment']=='Forward charges') & (Courier_Company_Invoice['Total weight as per X (KG)']<=Courier_Company_Invoice['Weight Slabs'])), Courier_Company_Invoice['Forward Fixed Charge'], \n",
    "np.where(((Courier_Company_Invoice['Delivery Zone as per X']=='b') & (Courier_Company_Invoice['Type of Shipment']=='Forward charges') & (Courier_Company_Invoice['Total weight as per X (KG)']<=Courier_Company_Invoice['Weight Slabs'])), Courier_Company_Invoice['Forward Fixed Charge'], \n",
    "np.where(((Courier_Company_Invoice['Delivery Zone as per X']=='b') & (Courier_Company_Invoice['Type of Shipment']=='Forward charges') & (Courier_Company_Invoice['Total weight as per X (KG)']<=Courier_Company_Invoice['Weight Slabs'])), Courier_Company_Invoice['Forward Fixed Charge'], \n",
    "\n",
    "np.where(((Courier_Company_Invoice['Delivery Zone as per X']=='b') & (Courier_Company_Invoice['Type of Shipment']=='Forward charges') & (Courier_Company_Invoice['Total weight as per X (KG)']>Courier_Company_Invoice['Weight Slabs'])), Courier_Company_Invoice['Forward Fixed Charge']+ round((Courier_Company_Invoice['Total weight as per X (KG)']- Courier_Company_Invoice['Weight Slabs'])/ Courier_Company_Invoice['Weight Slabs'],0)* Courier_Company_Invoice['Forward Additional Weight Slab Charge'],\n",
    "np.where(((Courier_Company_Invoice['Delivery Zone as per X']=='d') & (Courier_Company_Invoice['Type of Shipment']=='Forward charges') & (Courier_Company_Invoice['Total weight as per X (KG)']>Courier_Company_Invoice['Weight Slabs'])), Courier_Company_Invoice['Forward Fixed Charge']+ round((Courier_Company_Invoice['Total weight as per X (KG)']- Courier_Company_Invoice['Weight Slabs'])/ Courier_Company_Invoice['Weight Slabs'],0)* Courier_Company_Invoice['Forward Additional Weight Slab Charge'],\n",
    "np.where(((Courier_Company_Invoice['Delivery Zone as per X']=='c') & (Courier_Company_Invoice['Type of Shipment']=='Forward charges') & (Courier_Company_Invoice['Total weight as per X (KG)']>Courier_Company_Invoice['Weight Slabs'])), Courier_Company_Invoice['Forward Fixed Charge']+ round((Courier_Company_Invoice['Total weight as per X (KG)']- Courier_Company_Invoice['Weight Slabs'])/ Courier_Company_Invoice['Weight Slabs'],0)* Courier_Company_Invoice['Forward Additional Weight Slab Charge'],\n",
    "np.where(((Courier_Company_Invoice['Delivery Zone as per X']=='e') & (Courier_Company_Invoice['Type of Shipment']=='Forward charges') & (Courier_Company_Invoice['Total weight as per X (KG)']>Courier_Company_Invoice['Weight Slabs'])), Courier_Company_Invoice['Forward Fixed Charge']+ round((Courier_Company_Invoice['Total weight as per X (KG)']- Courier_Company_Invoice['Weight Slabs'])/ Courier_Company_Invoice['Weight Slabs'],0)* Courier_Company_Invoice['Forward Additional Weight Slab Charge'],\n",
    "np.where(((Courier_Company_Invoice['Delivery Zone as per X']=='a') & (Courier_Company_Invoice['Type of Shipment']=='Forward charges') & (Courier_Company_Invoice['Total weight as per X (KG)']>Courier_Company_Invoice['Weight Slabs'])), Courier_Company_Invoice['Forward Fixed Charge']+ round((Courier_Company_Invoice['Total weight as per X (KG)']- Courier_Company_Invoice['Weight Slabs'])/ Courier_Company_Invoice['Weight Slabs'],0)* Courier_Company_Invoice['Forward Additional Weight Slab Charge'],\n",
    "\n",
    "np.where(((Courier_Company_Invoice['Delivery Zone as per X']=='d') & (Courier_Company_Invoice['Type of Shipment']=='Forward and RTO charges') & (Courier_Company_Invoice['Total weight as per X (KG)']<=Courier_Company_Invoice['Weight Slabs'])),Courier_Company_Invoice['Forward Fixed Charge']+ Courier_Company_Invoice['RTO Fixed Charge'],\n",
    "np.where(((Courier_Company_Invoice['Delivery Zone as per X']=='b') & (Courier_Company_Invoice['Type of Shipment']=='Forward and RTO charges') & (Courier_Company_Invoice['Total weight as per X (KG)']<=Courier_Company_Invoice['Weight Slabs'])),Courier_Company_Invoice['Forward Fixed Charge']+ Courier_Company_Invoice['RTO Fixed Charge'],\n",
    "np.where(((Courier_Company_Invoice['Delivery Zone as per X']=='c') & (Courier_Company_Invoice['Type of Shipment']=='Forward and RTO charges') & (Courier_Company_Invoice['Total weight as per X (KG)']<=Courier_Company_Invoice['Weight Slabs'])),Courier_Company_Invoice['Forward Fixed Charge']+ Courier_Company_Invoice['RTO Fixed Charge'],\n",
    "np.where(((Courier_Company_Invoice['Delivery Zone as per X']=='e') & (Courier_Company_Invoice['Type of Shipment']=='Forward and RTO charges') & (Courier_Company_Invoice['Total weight as per X (KG)']<=Courier_Company_Invoice['Weight Slabs'])),Courier_Company_Invoice['Forward Fixed Charge']+ Courier_Company_Invoice['RTO Fixed Charge'],\n",
    "np.where(((Courier_Company_Invoice['Delivery Zone as per X']=='a') & (Courier_Company_Invoice['Type of Shipment']=='Forward and RTO charges') & (Courier_Company_Invoice['Total weight as per X (KG)']<=Courier_Company_Invoice['Weight Slabs'])),Courier_Company_Invoice['Forward Fixed Charge']+ Courier_Company_Invoice['RTO Fixed Charge'],\n",
    "\n",
    "\n",
    "\n",
    "\n",
    "np.where(((Courier_Company_Invoice['Delivery Zone as per X']=='a') & (Courier_Company_Invoice['Type of Shipment']=='Forward and RTO charges') & (Courier_Company_Invoice['Total weight as per X (KG)']>Courier_Company_Invoice['Weight Slabs'])), Courier_Company_Invoice['Forward Fixed Charge']+ Courier_Company_Invoice['RTO Fixed Charge']+ round((Courier_Company_Invoice['Total weight as per X (KG)']- Courier_Company_Invoice['Weight Slabs'])/ Courier_Company_Invoice['Weight Slabs'],0)* (Courier_Company_Invoice['Forward Additional Weight Slab Charge']+ Courier_Company_Invoice['RTO Additional Weight Slab Charge']),\n",
    "np.where(((Courier_Company_Invoice['Delivery Zone as per X']=='b') & (Courier_Company_Invoice['Type of Shipment']=='Forward and RTO charges') & (Courier_Company_Invoice['Total weight as per X (KG)']>Courier_Company_Invoice['Weight Slabs'])), Courier_Company_Invoice['Forward Fixed Charge']+ Courier_Company_Invoice['RTO Fixed Charge']+ round((Courier_Company_Invoice['Total weight as per X (KG)']- Courier_Company_Invoice['Weight Slabs'])/ Courier_Company_Invoice['Weight Slabs'],0)* (Courier_Company_Invoice['Forward Additional Weight Slab Charge']+ Courier_Company_Invoice['RTO Additional Weight Slab Charge']),\n",
    "np.where(((Courier_Company_Invoice['Delivery Zone as per X']=='c') & (Courier_Company_Invoice['Type of Shipment']=='Forward and RTO charges') & (Courier_Company_Invoice['Total weight as per X (KG)']>Courier_Company_Invoice['Weight Slabs'])), Courier_Company_Invoice['Forward Fixed Charge']+ Courier_Company_Invoice['RTO Fixed Charge']+ round((Courier_Company_Invoice['Total weight as per X (KG)']- Courier_Company_Invoice['Weight Slabs'])/ Courier_Company_Invoice['Weight Slabs'],0)* (Courier_Company_Invoice['Forward Additional Weight Slab Charge']+ Courier_Company_Invoice['RTO Additional Weight Slab Charge']),\n",
    "np.where(((Courier_Company_Invoice['Delivery Zone as per X']=='d') & (Courier_Company_Invoice['Type of Shipment']=='Forward and RTO charges') & (Courier_Company_Invoice['Total weight as per X (KG)']>Courier_Company_Invoice['Weight Slabs'])), Courier_Company_Invoice['Forward Fixed Charge']+ Courier_Company_Invoice['RTO Fixed Charge']+ round((Courier_Company_Invoice['Total weight as per X (KG)']- Courier_Company_Invoice['Weight Slabs'])/ Courier_Company_Invoice['Weight Slabs'],0)* (Courier_Company_Invoice['Forward Additional Weight Slab Charge']+ Courier_Company_Invoice['RTO Additional Weight Slab Charge']),\n",
    "np.where(((Courier_Company_Invoice['Delivery Zone as per X']=='e') & (Courier_Company_Invoice['Type of Shipment']=='Forward and RTO charges') & (Courier_Company_Invoice['Total weight as per X (KG)']>Courier_Company_Invoice['Weight Slabs'])), Courier_Company_Invoice['Forward Fixed Charge']+ Courier_Company_Invoice['RTO Fixed Charge']+ round((Courier_Company_Invoice['Total weight as per X (KG)']- Courier_Company_Invoice['Weight Slabs'])/ Courier_Company_Invoice['Weight Slabs'],0)* (Courier_Company_Invoice['Forward Additional Weight Slab Charge']+ Courier_Company_Invoice['RTO Additional Weight Slab Charge']),0))))))))))))))))))))\n"
   ]
  },
  {
   "cell_type": "code",
   "execution_count": null,
   "id": "e621abff",
   "metadata": {},
   "outputs": [],
   "source": []
  },
  {
   "cell_type": "markdown",
   "id": "05504ded",
   "metadata": {},
   "source": [
    "### Rename columns as per requirements"
   ]
  },
  {
   "cell_type": "code",
   "execution_count": 209,
   "id": "55b7ee2c",
   "metadata": {},
   "outputs": [],
   "source": [
    "Courier_Company_Invoice.rename(columns = {'Weight Slabs':'Weight slab as per X (KG)'}, inplace = True)"
   ]
  },
  {
   "cell_type": "code",
   "execution_count": 211,
   "id": "f9ae8f1a",
   "metadata": {},
   "outputs": [],
   "source": [
    "Courier_Company_Invoice.rename(columns = {'Charged Weight':'Total weight as per Courier Company (KG)'}, inplace = True)"
   ]
  },
  {
   "cell_type": "code",
   "execution_count": 213,
   "id": "f09d1da1",
   "metadata": {},
   "outputs": [],
   "source": [
    "Courier_Company_Invoice.rename(columns = {'Total Amount (Rs.)':'Expected Charge as per X (Rs.)'}, inplace = True)"
   ]
  },
  {
   "cell_type": "code",
   "execution_count": 215,
   "id": "d932670c",
   "metadata": {},
   "outputs": [],
   "source": [
    "Courier_Company_Invoice.rename(columns = {'Billing Amount (Rs.)':'Charges Billed by Courier Company (Rs.)'}, inplace = True)"
   ]
  },
  {
   "cell_type": "code",
   "execution_count": null,
   "id": "db49ba71",
   "metadata": {},
   "outputs": [],
   "source": []
  },
  {
   "cell_type": "code",
   "execution_count": null,
   "id": "7b7622f4",
   "metadata": {},
   "outputs": [],
   "source": []
  },
  {
   "cell_type": "markdown",
   "id": "d2c4d870",
   "metadata": {},
   "source": [
    "### Creating columns where we can see the different between expected bill amount and charged bill amount"
   ]
  },
  {
   "cell_type": "code",
   "execution_count": 219,
   "id": "b419895a",
   "metadata": {},
   "outputs": [],
   "source": [
    "Courier_Company_Invoice['Difference Between Expected Charges and Billed Charges (Rs.)'] = round(Courier_Company_Invoice['Charges Billed by Courier Company (Rs.)']-Courier_Company_Invoice['Expected Charge as per X (Rs.)'],2)"
   ]
  },
  {
   "cell_type": "code",
   "execution_count": null,
   "id": "16a26b82",
   "metadata": {},
   "outputs": [],
   "source": []
  },
  {
   "cell_type": "code",
   "execution_count": 224,
   "id": "528e0775",
   "metadata": {},
   "outputs": [],
   "source": [
    "Courier_Company_Invoice.rename(columns = {'AWB Code':'AWB Number'}, inplace = True) ## Rename column name"
   ]
  },
  {
   "cell_type": "code",
   "execution_count": null,
   "id": "3c34d6ef",
   "metadata": {},
   "outputs": [],
   "source": []
  },
  {
   "cell_type": "markdown",
   "id": "95a1fbcc",
   "metadata": {},
   "source": [
    "### Create the table with required columns"
   ]
  },
  {
   "cell_type": "code",
   "execution_count": 226,
   "id": "3dbed4f2",
   "metadata": {},
   "outputs": [],
   "source": [
    "Courier_Company_Invoice_New = Courier_Company_Invoice[['Order ID','AWB Number','Total weight as per X (KG)','Weight slab as per X (KG)','Total weight as per Courier Company (KG)','Weight slab charged by Courier Company (KG)','Delivery Zone as per X','Delivery Zone charged by Courier Company','Expected Charge as per X (Rs.)','Charges Billed by Courier Company (Rs.)','Difference Between Expected Charges and Billed Charges (Rs.)']]"
   ]
  },
  {
   "cell_type": "code",
   "execution_count": 242,
   "id": "dcbec6d2",
   "metadata": {},
   "outputs": [
    {
     "data": {
      "text/html": [
       "<div>\n",
       "<style scoped>\n",
       "    .dataframe tbody tr th:only-of-type {\n",
       "        vertical-align: middle;\n",
       "    }\n",
       "\n",
       "    .dataframe tbody tr th {\n",
       "        vertical-align: top;\n",
       "    }\n",
       "\n",
       "    .dataframe thead th {\n",
       "        text-align: right;\n",
       "    }\n",
       "</style>\n",
       "<table border=\"1\" class=\"dataframe\">\n",
       "  <thead>\n",
       "    <tr style=\"text-align: right;\">\n",
       "      <th></th>\n",
       "      <th>Order ID</th>\n",
       "      <th>AWB Number</th>\n",
       "      <th>Total weight as per X (KG)</th>\n",
       "      <th>Weight slab as per X (KG)</th>\n",
       "      <th>Total weight as per Courier Company (KG)</th>\n",
       "      <th>Weight slab charged by Courier Company (KG)</th>\n",
       "      <th>Delivery Zone as per X</th>\n",
       "      <th>Delivery Zone charged by Courier Company</th>\n",
       "      <th>Expected Charge as per X (Rs.)</th>\n",
       "      <th>Charges Billed by Courier Company (Rs.)</th>\n",
       "      <th>Difference Between Expected Charges and Billed Charges (Rs.)</th>\n",
       "    </tr>\n",
       "  </thead>\n",
       "  <tbody>\n",
       "    <tr>\n",
       "      <th>0</th>\n",
       "      <td>2001806232</td>\n",
       "      <td>1091117222124</td>\n",
       "      <td>1.302</td>\n",
       "      <td>1.5</td>\n",
       "      <td>1.30</td>\n",
       "      <td>1.5</td>\n",
       "      <td>d</td>\n",
       "      <td>d</td>\n",
       "      <td>45.4</td>\n",
       "      <td>135.0</td>\n",
       "      <td>89.6</td>\n",
       "    </tr>\n",
       "    <tr>\n",
       "      <th>1</th>\n",
       "      <td>2001806273</td>\n",
       "      <td>1091117222194</td>\n",
       "      <td>0.615</td>\n",
       "      <td>1.5</td>\n",
       "      <td>1.00</td>\n",
       "      <td>1.5</td>\n",
       "      <td>d</td>\n",
       "      <td>d</td>\n",
       "      <td>45.4</td>\n",
       "      <td>90.2</td>\n",
       "      <td>44.8</td>\n",
       "    </tr>\n",
       "    <tr>\n",
       "      <th>2</th>\n",
       "      <td>2001806408</td>\n",
       "      <td>1091117222931</td>\n",
       "      <td>2.265</td>\n",
       "      <td>1.5</td>\n",
       "      <td>2.50</td>\n",
       "      <td>1.5</td>\n",
       "      <td>d</td>\n",
       "      <td>d</td>\n",
       "      <td>90.2</td>\n",
       "      <td>224.6</td>\n",
       "      <td>134.4</td>\n",
       "    </tr>\n",
       "    <tr>\n",
       "      <th>3</th>\n",
       "      <td>2001807012</td>\n",
       "      <td>1091117229345</td>\n",
       "      <td>0.240</td>\n",
       "      <td>1.5</td>\n",
       "      <td>0.15</td>\n",
       "      <td>1.5</td>\n",
       "      <td>d</td>\n",
       "      <td>d</td>\n",
       "      <td>45.4</td>\n",
       "      <td>45.4</td>\n",
       "      <td>0.0</td>\n",
       "    </tr>\n",
       "    <tr>\n",
       "      <th>4</th>\n",
       "      <td>2001806686</td>\n",
       "      <td>1091117229555</td>\n",
       "      <td>0.240</td>\n",
       "      <td>1.5</td>\n",
       "      <td>0.15</td>\n",
       "      <td>1.5</td>\n",
       "      <td>d</td>\n",
       "      <td>d</td>\n",
       "      <td>45.4</td>\n",
       "      <td>45.4</td>\n",
       "      <td>0.0</td>\n",
       "    </tr>\n",
       "  </tbody>\n",
       "</table>\n",
       "</div>"
      ],
      "text/plain": [
       "     Order ID     AWB Number  Total weight as per X (KG)  \\\n",
       "0  2001806232  1091117222124                       1.302   \n",
       "1  2001806273  1091117222194                       0.615   \n",
       "2  2001806408  1091117222931                       2.265   \n",
       "3  2001807012  1091117229345                       0.240   \n",
       "4  2001806686  1091117229555                       0.240   \n",
       "\n",
       "   Weight slab as per X (KG)  Total weight as per Courier Company (KG)  \\\n",
       "0                        1.5                                      1.30   \n",
       "1                        1.5                                      1.00   \n",
       "2                        1.5                                      2.50   \n",
       "3                        1.5                                      0.15   \n",
       "4                        1.5                                      0.15   \n",
       "\n",
       "   Weight slab charged by Courier Company (KG) Delivery Zone as per X  \\\n",
       "0                                          1.5                      d   \n",
       "1                                          1.5                      d   \n",
       "2                                          1.5                      d   \n",
       "3                                          1.5                      d   \n",
       "4                                          1.5                      d   \n",
       "\n",
       "  Delivery Zone charged by Courier Company  Expected Charge as per X (Rs.)  \\\n",
       "0                                        d                            45.4   \n",
       "1                                        d                            45.4   \n",
       "2                                        d                            90.2   \n",
       "3                                        d                            45.4   \n",
       "4                                        d                            45.4   \n",
       "\n",
       "   Charges Billed by Courier Company (Rs.)  \\\n",
       "0                                    135.0   \n",
       "1                                     90.2   \n",
       "2                                    224.6   \n",
       "3                                     45.4   \n",
       "4                                     45.4   \n",
       "\n",
       "   Difference Between Expected Charges and Billed Charges (Rs.)  \n",
       "0                                               89.6             \n",
       "1                                               44.8             \n",
       "2                                              134.4             \n",
       "3                                                0.0             \n",
       "4                                                0.0             "
      ]
     },
     "execution_count": 242,
     "metadata": {},
     "output_type": "execute_result"
    }
   ],
   "source": [
    "Courier_Company_Invoice_New.head()"
   ]
  },
  {
   "cell_type": "code",
   "execution_count": 243,
   "id": "87cf2461",
   "metadata": {},
   "outputs": [],
   "source": [
    "Courier_Company_Invoice_New.to_csv('Output1.csv') ### Create CSV file with required column"
   ]
  },
  {
   "cell_type": "code",
   "execution_count": null,
   "id": "10bf665b",
   "metadata": {},
   "outputs": [],
   "source": []
  },
  {
   "cell_type": "markdown",
   "id": "918c4e8d",
   "metadata": {},
   "source": [
    "## Summary Table"
   ]
  },
  {
   "cell_type": "code",
   "execution_count": 238,
   "id": "d97bffde",
   "metadata": {},
   "outputs": [],
   "source": [
    "correctly_charged = Courier_Company_Invoice_New[Courier_Company_Invoice_New['Difference Between Expected Charges and Billed Charges (Rs.)']==0.0]\n",
    "correctly=[\"Total orders where X has been correctly charged\",len(correctly_charged),sum(correctly_charged['Charges Billed by Courier Company (Rs.)'])]\n",
    "\n",
    "over_charged = Courier_Company_Invoice_New[Courier_Company_Invoice_New['Difference Between Expected Charges and Billed Charges (Rs.)']>0.0]\n",
    "over=[\"Total Orders where X has been overcharged\",len(over_charged),sum(over_charged['Difference Between Expected Charges and Billed Charges (Rs.)'])]\n",
    "\n",
    "under_charged = Courier_Company_Invoice_New[Courier_Company_Invoice_New['Difference Between Expected Charges and Billed Charges (Rs.)']<0.0]\n",
    "under=[\"Total Orders where X has been undercharged\",len(under_charged),np.abs(sum(under_charged['Difference Between Expected Charges and Billed Charges (Rs.)']))]\n"
   ]
  },
  {
   "cell_type": "code",
   "execution_count": null,
   "id": "c4ac10ff",
   "metadata": {},
   "outputs": [],
   "source": []
  },
  {
   "cell_type": "code",
   "execution_count": 239,
   "id": "2d8e296c",
   "metadata": {},
   "outputs": [],
   "source": [
    "Result_Output2 = pd.DataFrame([correctly,over,under],columns=['Description','Count','Amount (Rs.)'])"
   ]
  },
  {
   "cell_type": "code",
   "execution_count": 240,
   "id": "7d4cdde6",
   "metadata": {},
   "outputs": [
    {
     "data": {
      "text/html": [
       "<div>\n",
       "<style scoped>\n",
       "    .dataframe tbody tr th:only-of-type {\n",
       "        vertical-align: middle;\n",
       "    }\n",
       "\n",
       "    .dataframe tbody tr th {\n",
       "        vertical-align: top;\n",
       "    }\n",
       "\n",
       "    .dataframe thead th {\n",
       "        text-align: right;\n",
       "    }\n",
       "</style>\n",
       "<table border=\"1\" class=\"dataframe\">\n",
       "  <thead>\n",
       "    <tr style=\"text-align: right;\">\n",
       "      <th></th>\n",
       "      <th>Description</th>\n",
       "      <th>Count</th>\n",
       "      <th>Amount (Rs.)</th>\n",
       "    </tr>\n",
       "  </thead>\n",
       "  <tbody>\n",
       "    <tr>\n",
       "      <th>0</th>\n",
       "      <td>Total orders where X has been correctly charged</td>\n",
       "      <td>7</td>\n",
       "      <td>367.3</td>\n",
       "    </tr>\n",
       "    <tr>\n",
       "      <th>1</th>\n",
       "      <td>Total Orders where X has been overcharged</td>\n",
       "      <td>115</td>\n",
       "      <td>8201.6</td>\n",
       "    </tr>\n",
       "    <tr>\n",
       "      <th>2</th>\n",
       "      <td>Total Orders where X has been undercharged</td>\n",
       "      <td>2</td>\n",
       "      <td>47.2</td>\n",
       "    </tr>\n",
       "  </tbody>\n",
       "</table>\n",
       "</div>"
      ],
      "text/plain": [
       "                                       Description  Count  Amount (Rs.)\n",
       "0  Total orders where X has been correctly charged      7         367.3\n",
       "1        Total Orders where X has been overcharged    115        8201.6\n",
       "2       Total Orders where X has been undercharged      2          47.2"
      ]
     },
     "execution_count": 240,
     "metadata": {},
     "output_type": "execute_result"
    }
   ],
   "source": [
    "Result_Output2"
   ]
  },
  {
   "cell_type": "code",
   "execution_count": 244,
   "id": "72de57ad",
   "metadata": {},
   "outputs": [],
   "source": [
    "Result_Output2.to_csv(\"Output2.csv\")  ### Create CSV file with Summary "
   ]
  },
  {
   "cell_type": "code",
   "execution_count": null,
   "id": "b6363f1c",
   "metadata": {},
   "outputs": [],
   "source": []
  }
 ],
 "metadata": {
  "kernelspec": {
   "display_name": "Python 3 (ipykernel)",
   "language": "python",
   "name": "python3"
  },
  "language_info": {
   "codemirror_mode": {
    "name": "ipython",
    "version": 3
   },
   "file_extension": ".py",
   "mimetype": "text/x-python",
   "name": "python",
   "nbconvert_exporter": "python",
   "pygments_lexer": "ipython3",
   "version": "3.10.9"
  }
 },
 "nbformat": 4,
 "nbformat_minor": 5
}
